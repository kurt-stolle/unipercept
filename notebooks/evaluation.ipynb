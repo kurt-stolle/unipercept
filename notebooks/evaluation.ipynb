{
 "cells": [
  {
   "cell_type": "markdown",
   "metadata": {},
   "source": [
    "# Evaluation\n",
    "\n",
    "In `unipercept`, the evaluation of a trained model is also handled by the `unipercept.engine.Engine` class. This\n",
    "notebook shows how metrics can be evaluated using the Python interface."
   ]
  },
  {
   "cell_type": "code",
   "execution_count": 1,
   "metadata": {},
   "outputs": [
    {
     "name": "stdout",
     "output_type": "stream",
     "text": [
      "\u001b[36m2024-02-23\u001b[0m \u001b[96m12:35:34\u001b[0m 📝 \u001b[1m\u001b[33munipercept\u001b[0m\u001b[33m.integrations.wandb_integration\u001b[0m\u001b[1m:\u001b[0m Reading W&B configuration from wandb-run:\u001b[1m//tue-mps/multidvps/01HQ9KH71W0FG092D0C1MMD0AY-train-stage-2\u001b[0m\n",
      "\u001b[36m2024-02-23\u001b[0m \u001b[96m12:35:34\u001b[0m 📝 \u001b[1m\u001b[33munipercept\u001b[0m\u001b[1m:\u001b[0m Found dataset loader cityscapes-vps/val via key\u001b[1m\u001b[0m\n",
      "\u001b[36m2024-02-23\u001b[0m \u001b[96m12:35:34\u001b[0m 🐛 \u001b[1m\u001b[33munipercept\u001b[0m\u001b[33m.data.collect\u001b[0m\u001b[1m:\u001b[0m Using adjacent collector (1 frames) with required sources (frozenset({'image', 'panoptic'}),)\u001b[1m\u001b[0m\n",
      "\u001b[36m2024-02-23\u001b[0m \u001b[96m12:35:34\u001b[0m 📝 \u001b[1m\u001b[33munipercept\u001b[0m\u001b[33m.data\u001b[0m\u001b[1m:\u001b[0m Wrapping dataset:\u001b[1m CityscapesVPSDataset(queue_fn=GroupAdjacentTime(num_frames=1, use_typecheck=False), split='val', root='//datasets/cityscapes-vps', all=False)\u001b[0m\n",
      "\u001b[36m2024-02-23\u001b[0m \u001b[96m12:35:34\u001b[0m 🐛 \u001b[1m\u001b[33munipercept\u001b[0m\u001b[33m.data.collect\u001b[0m\u001b[1m:\u001b[0m Found 300 sequences with 1 captures!\u001b[1m\u001b[0m\n",
      "\u001b[36m2024-02-23\u001b[0m \u001b[96m12:35:34\u001b[0m 🐛 \u001b[1m\u001b[33munipercept\u001b[0m\u001b[33m.data\u001b[0m\u001b[1m:\u001b[0m Initialized sampler 1 of 1\u001b[1m\u001b[0m\n",
      "\u001b[36m2024-02-23\u001b[0m \u001b[96m12:35:34\u001b[0m 🐛 \u001b[1m\u001b[33munipercept\u001b[0m\u001b[33m.data\u001b[0m\u001b[1m:\u001b[0m Creating dataloader (300 queued; 300 × 1 items):\u001b[1m\n",
      "------------------  ------------------------------------------------------------------------\n",
      "drop_last           False\n",
      "pin_memory          True\n",
      "num_workers         15\n",
      "prefetch_factor     2\n",
      "persistent_workers  False\n",
      "sampler             <unipercept.data._loader.InferenceSampler object at 0x7f09ae364090>\n",
      "batch_size          1\n",
      "collate_fn          <bound method InputData.collate of <class 'unipercept.model.InputData'>>\n",
      "worker_init_fn      <function _worker_init_fn at 0x7f09afbe56c0>\n",
      "------------------  ------------------------------------------------------------------------\u001b[0m\n",
      "\u001b[36m2024-02-23\u001b[0m \u001b[96m12:35:34\u001b[0m 🐛 \u001b[1m\u001b[33munipercept\u001b[0m\u001b[33m.data.collect\u001b[0m\u001b[1m:\u001b[0m Using adjacent collector (1 frames) with required sources (frozenset({'image'}),)\u001b[1m\u001b[0m\n",
      "\u001b[36m2024-02-23\u001b[0m \u001b[96m12:35:34\u001b[0m 🐛 \u001b[1m\u001b[33munipercept\u001b[0m\u001b[33m.data.collect\u001b[0m\u001b[1m:\u001b[0m Using adjacent collector (2 frames) with required sources (frozenset({'image', 'panoptic'}), frozenset({'image', 'panoptic'}))\u001b[1m\u001b[0m\n",
      "\u001b[36m2024-02-23\u001b[0m \u001b[96m12:35:34\u001b[0m 🐛 \u001b[1m\u001b[33munipercept\u001b[0m\u001b[33m.data.collect\u001b[0m\u001b[1m:\u001b[0m Using adjacent collector (1 frames) with required sources (frozenset({'image'}),)\u001b[1m\u001b[0m\n",
      "\u001b[36m2024-02-23\u001b[0m \u001b[96m12:35:34\u001b[0m 🐛 \u001b[1m\u001b[33munipercept\u001b[0m\u001b[33m.data.collect\u001b[0m\u001b[1m:\u001b[0m Using adjacent collector (1 frames) with required sources (frozenset({'image', 'panoptic'}),)\u001b[1m\u001b[0m\n",
      "\u001b[36m2024-02-23\u001b[0m \u001b[96m12:35:34\u001b[0m 🐛 \u001b[1m\u001b[33munipercept\u001b[0m\u001b[33m.data.collect\u001b[0m\u001b[1m:\u001b[0m Using adjacent collector (2 frames) with required sources (frozenset({'image', 'panoptic'}), frozenset({'image', 'panoptic'}))\u001b[1m\u001b[0m\n",
      "\u001b[36m2024-02-23\u001b[0m \u001b[96m12:35:34\u001b[0m 🐛 \u001b[1m\u001b[33munipercept\u001b[0m\u001b[33m.data.collect\u001b[0m\u001b[1m:\u001b[0m Using adjacent collector (2 frames) with required sources (frozenset({'image', 'panoptic'}), frozenset({'image', 'panoptic'}))\u001b[1m\u001b[0m\n",
      "\u001b[36m2024-02-23\u001b[0m \u001b[96m12:35:35\u001b[0m 📝 \u001b[1m\u001b[33munipercept\u001b[0m\u001b[33m.engine\u001b[0m\u001b[1m:\u001b[0m Saving configuration to /home/khwstolle/projects/phd-dvps/unipercept/output/multidvps/01HQAVZMT1A50X2Y60M0D4FJAE/config.yaml\u001b[1m\u001b[0m\n",
      "\u001b[36m2024-02-23\u001b[0m \u001b[96m12:35:35\u001b[0m 📝 \u001b[1m\u001b[33munipercept\u001b[0m\u001b[33m.engine\u001b[0m\u001b[1m:\u001b[0m Starting evaluation procedure...\u001b[1m\u001b[0m\n",
      "\u001b[36m2024-02-23\u001b[0m \u001b[96m12:35:35\u001b[0m 📝 \u001b[1m\u001b[33munipercept\u001b[0m\u001b[33m.engine\u001b[0m\u001b[1m:\u001b[0m Running inference on loader 'cityscapes-vps/val' for 2 handlers\u001b[1m\u001b[0m\n",
      "\u001b[36m2024-02-23\u001b[0m \u001b[96m12:35:35\u001b[0m 📝 \u001b[1m\u001b[33munipercept\u001b[0m\u001b[33m.model\u001b[0m\u001b[1m:\u001b[0m Instantiating model without configuration overrides\u001b[1m\u001b[0m\n",
      "\u001b[36m2024-02-23\u001b[0m \u001b[96m12:35:37\u001b[0m 📝 \u001b[1m\u001b[33munipercept\u001b[0m\u001b[33m.model\u001b[0m\u001b[1m:\u001b[0m Loading model weights:\u001b[1m wandb-run://tue-mps/multidvps/01HQ9KH71W0FG092D0C1MMD0AY-train-stage-2\u001b[0m\n",
      "\u001b[36m2024-02-23\u001b[0m \u001b[96m12:35:37\u001b[0m 📝 \u001b[1m\u001b[33munipercept\u001b[0m\u001b[33m.integrations.wandb_integration\u001b[0m\u001b[1m:\u001b[0m Reading W&B configuration from wandb-run:\u001b[1m//tue-mps/multidvps/01HQ9KH71W0FG092D0C1MMD0AY-train-stage-2\u001b[0m\n",
      "\u001b[36m2024-02-23\u001b[0m \u001b[96m12:35:37\u001b[0m 📝 \u001b[1m\u001b[33munipercept\u001b[0m\u001b[1m:\u001b[0m Reading W&B model checkpoint from wandb-run:\u001b[1m//tue-mps/multidvps/01HQ9KH71W0FG092D0C1MMD0AY-train-stage-2\u001b[0m\n",
      "\u001b[36m2024-02-23\u001b[0m \u001b[96m12:35:38\u001b[0m 📝 \u001b[1m\u001b[33munipercept\u001b[0m\u001b[1m:\u001b[0m Downloading model artifact tue-mps/multidvps/01HQ9KH71W0FG092D0C1MMD0AY-train-stage-2-model:\u001b[1mlatest/model.safetensors\u001b[0m\n",
      "\u001b[36m2024-02-23\u001b[0m \u001b[96m12:35:38\u001b[0m 🐛 \u001b[1m\u001b[33munipercept\u001b[0m\u001b[33m.utils.iopath_handlers\u001b[0m\u001b[1m:\u001b[0m Using W&B artifact using the API (without a run)\u001b[1m\u001b[0m\n",
      "\u001b[36m2024-02-23\u001b[0m \u001b[96m12:35:38\u001b[0m 📝 \u001b[1m\u001b[33munipercept\u001b[0m\u001b[1m:\u001b[0m Loading checkpoint from path /home/khwstolle/.torch/iopath_cache/tue-mps/multidvps/01HQ9KH71W0FG092D0C1MMD0AY-train-stage-2-model:\u001b[1mlatest/model.safetensors\u001b[0m\n",
      "\u001b[36m2024-02-23\u001b[0m \u001b[96m12:35:39\u001b[0m 📝 \u001b[1m\u001b[33munipercept\u001b[0m\u001b[33m.data\u001b[0m\u001b[1m:\u001b[0m Wrapping dataset:\u001b[1m CityscapesVPSDataset(queue_fn=GroupAdjacentTime(num_frames=1, use_typecheck=False), split='val', root='//datasets/cityscapes-vps', all=False)\u001b[0m\n",
      "\u001b[36m2024-02-23\u001b[0m \u001b[96m12:35:39\u001b[0m 🐛 \u001b[1m\u001b[33munipercept\u001b[0m\u001b[33m.data.collect\u001b[0m\u001b[1m:\u001b[0m Found 300 sequences with 1 captures!\u001b[1m\u001b[0m\n",
      "\u001b[36m2024-02-23\u001b[0m \u001b[96m12:35:39\u001b[0m 🐛 \u001b[1m\u001b[33munipercept\u001b[0m\u001b[33m.data\u001b[0m\u001b[1m:\u001b[0m Initialized sampler 1 of 1\u001b[1m\u001b[0m\n",
      "\u001b[36m2024-02-23\u001b[0m \u001b[96m12:35:39\u001b[0m 🐛 \u001b[1m\u001b[33munipercept\u001b[0m\u001b[33m.data\u001b[0m\u001b[1m:\u001b[0m Creating dataloader (300 queued; 300 × 1 items):\u001b[1m\n",
      "------------------  ------------------------------------------------------------------------\n",
      "drop_last           False\n",
      "pin_memory          True\n",
      "num_workers         15\n",
      "prefetch_factor     2\n",
      "persistent_workers  False\n",
      "sampler             <unipercept.data._loader.InferenceSampler object at 0x7f09adaf34d0>\n",
      "batch_size          1\n",
      "collate_fn          <bound method InputData.collate of <class 'unipercept.model.InputData'>>\n",
      "worker_init_fn      <function _worker_init_fn at 0x7f09afbe56c0>\n",
      "------------------  ------------------------------------------------------------------------\u001b[0m\n",
      "\u001b[36m2024-02-23\u001b[0m \u001b[96m12:35:39\u001b[0m 📝 \u001b[1m\u001b[33munipercept\u001b[0m\u001b[33m.engine\u001b[0m\u001b[1m:\u001b[0m Starting inference procedure...\u001b[1m\u001b[0m\n",
      "\u001b[36m2024-02-23\u001b[0m \u001b[96m12:35:39\u001b[0m 📝 \u001b[1m\u001b[33munipercept\u001b[0m\u001b[33m.engine\u001b[0m\u001b[1m:\u001b[0m Setting up experiment trackers\u001b[1m\u001b[0m\n",
      "\u001b[36m2024-02-23\u001b[0m \u001b[96m12:35:39\u001b[0m 📝 \u001b[1m\u001b[33munipercept\u001b[0m\u001b[33m.engine\u001b[0m\u001b[1m:\u001b[0m Loading configuration from /home/khwstolle/projects/phd-dvps/unipercept/output/multidvps/01HQAVZMT1A50X2Y60M0D4FJAE/config.yaml\u001b[1m\u001b[0m\n",
      "\u001b[36m2024-02-23\u001b[0m \u001b[96m12:35:39\u001b[0m 📝 \u001b[1m\u001b[33munipercept\u001b[0m\u001b[33m.engine\u001b[0m\u001b[1m:\u001b[0m Loading configuration from /home/khwstolle/projects/phd-dvps/unipercept/output/multidvps/01HQAVZMT1A50X2Y60M0D4FJAE/config.yaml\u001b[1m\u001b[0m\n"
     ]
    },
    {
     "name": "stderr",
     "output_type": "stream",
     "text": [
      "ERROR:wandb.jupyter:Failed to detect the name of this notebook, you can set it manually with the WANDB_NOTEBOOK_NAME environment variable to enable code saving.\n",
      "\u001b[34m\u001b[1mwandb\u001b[0m: Currently logged in as: \u001b[33mkurt-stolle\u001b[0m (\u001b[33mtue-mps\u001b[0m). Use \u001b[1m`wandb login --relogin`\u001b[0m to force relogin\n"
     ]
    },
    {
     "data": {
      "text/html": [
       "wandb version 0.16.3 is available!  To upgrade, please run:\n",
       " $ pip install wandb --upgrade"
      ],
      "text/plain": [
       "<IPython.core.display.HTML object>"
      ]
     },
     "metadata": {},
     "output_type": "display_data"
    },
    {
     "data": {
      "text/html": [
       "Tracking run with wandb version 0.16.2"
      ],
      "text/plain": [
       "<IPython.core.display.HTML object>"
      ]
     },
     "metadata": {},
     "output_type": "display_data"
    },
    {
     "data": {
      "text/html": [
       "Run data is saved locally in <code>/home/khwstolle/projects/phd-dvps/unipercept/wandb/run-20240223_123540-j6wz32xr</code>"
      ],
      "text/plain": [
       "<IPython.core.display.HTML object>"
      ]
     },
     "metadata": {},
     "output_type": "display_data"
    },
    {
     "data": {
      "text/html": [
       "Syncing run <strong><a href='https://wandb.ai/tue-mps/multidvps/runs/j6wz32xr' target=\"_blank\">cityscapes/multidvps_resnet50</a></strong> to <a href='https://wandb.ai/tue-mps/multidvps' target=\"_blank\">Weights & Biases</a> (<a href='https://wandb.me/run' target=\"_blank\">docs</a>)<br/>"
      ],
      "text/plain": [
       "<IPython.core.display.HTML object>"
      ]
     },
     "metadata": {},
     "output_type": "display_data"
    },
    {
     "data": {
      "text/html": [
       " View project at <a href='https://wandb.ai/tue-mps/multidvps' target=\"_blank\">https://wandb.ai/tue-mps/multidvps</a>"
      ],
      "text/plain": [
       "<IPython.core.display.HTML object>"
      ]
     },
     "metadata": {},
     "output_type": "display_data"
    },
    {
     "data": {
      "text/html": [
       " View run at <a href='https://wandb.ai/tue-mps/multidvps/runs/j6wz32xr' target=\"_blank\">https://wandb.ai/tue-mps/multidvps/runs/j6wz32xr</a>"
      ],
      "text/plain": [
       "<IPython.core.display.HTML object>"
      ]
     },
     "metadata": {},
     "output_type": "display_data"
    },
    {
     "name": "stdout",
     "output_type": "stream",
     "text": [
      "\u001b[36m2024-02-23\u001b[0m \u001b[96m12:35:45\u001b[0m 📝 \u001b[1m\u001b[33munipercept\u001b[0m\u001b[33m.integrations.wandb_integration\u001b[0m\u001b[1m:\u001b[0m Tracking current experiment to WandB run cityscapes/multidvps_resnet50\u001b[1m\u001b[0m\n",
      "\u001b[36m2024-02-23\u001b[0m \u001b[96m12:35:46\u001b[0m 🐛 \u001b[1m\u001b[33munipercept\u001b[0m\u001b[33m.engine\u001b[0m\u001b[1m:\u001b[0m Expecting 300 samples (300 batches, offsets [0])\u001b[1m\u001b[0m\n",
      "[2024-02-23 12:35:46,982] [INFO] [real_accelerator.py:161:get_accelerator] Setting ds_accelerator to cuda (auto detect)\n",
      "\u001b[36m2024-02-23\u001b[0m \u001b[96m12:35:47\u001b[0m 📝 \u001b[1m\u001b[33munipercept\u001b[0m\u001b[33m.engine\u001b[0m\u001b[1m:\u001b[0m Preparing model for evaluation:\u001b[1m GenericFCN\u001b[0m\n",
      "\u001b[36m2024-02-23\u001b[0m \u001b[96m12:35:48\u001b[0m 📝 \u001b[1m\u001b[33munipercept\u001b[0m\u001b[33m.engine\u001b[0m\u001b[1m:\u001b[0m Running inference loop on 1 processes.\u001b[1m\u001b[0m\n"
     ]
    },
    {
     "ename": "",
     "evalue": "",
     "output_type": "error",
     "traceback": [
      "\u001b[1;31mThe Kernel crashed while executing code in the current cell or a previous cell. \n",
      "\u001b[1;31mPlease review the code in the cell(s) to identify a possible cause of the failure. \n",
      "\u001b[1;31mClick <a href='https://aka.ms/vscodeJupyterKernelCrash'>here</a> for more info. \n",
      "\u001b[1;31mView Jupyter <a href='command:jupyter.viewOutput'>log</a> for further details."
     ]
    }
   ],
   "source": [
    "import unipercept as up\n",
    "\n",
    "config = up.read_config(\n",
    "    \"wandb-run://tue-mps/multidvps/01HQ9KH71W0FG092D0C1MMD0AY-train-stage-2\"\n",
    ")\n",
    "model_factory = up.create_model_factory(config)\n",
    "dataset = up.create_dataset(config, \"cityscapes-vps/val\", batch_size=1)\n",
    "engine = up.create_engine(config)\n",
    "engine.run_evaluation(model_factory, suites=\"cityscapes-vps/val\")"
   ]
  }
 ],
 "metadata": {
  "kernelspec": {
   "display_name": "unipercept",
   "language": "python",
   "name": "python3"
  },
  "language_info": {
   "codemirror_mode": {
    "name": "ipython",
    "version": 3
   },
   "file_extension": ".py",
   "mimetype": "text/x-python",
   "name": "python",
   "nbconvert_exporter": "python",
   "pygments_lexer": "ipython3",
   "version": "3.11.5"
  }
 },
 "nbformat": 4,
 "nbformat_minor": 2
}
