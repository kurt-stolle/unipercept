{
 "cells": [
  {
   "cell_type": "code",
   "execution_count": 1,
   "metadata": {},
   "outputs": [
    {
     "ename": "AssertionError",
     "evalue": "assets/testing/inputs/0001",
     "output_type": "error",
     "traceback": [
      "\u001b[0;31m---------------------------------------------------------------------------\u001b[0m",
      "\u001b[0;31mAssertionError\u001b[0m                            Traceback (most recent call last)",
      "Cell \u001b[0;32mIn[1], line 14\u001b[0m\n\u001b[1;32m     11\u001b[0m depths_path \u001b[38;5;241m=\u001b[39m assets_root \u001b[38;5;241m/\u001b[39m \u001b[38;5;124m\"\u001b[39m\u001b[38;5;124mtruths\u001b[39m\u001b[38;5;124m\"\u001b[39m \u001b[38;5;241m/\u001b[39m \u001b[38;5;124m\"\u001b[39m\u001b[38;5;124mdepths\u001b[39m\u001b[38;5;124m\"\u001b[39m \u001b[38;5;241m/\u001b[39m seq_id\n\u001b[1;32m     12\u001b[0m panseg_path \u001b[38;5;241m=\u001b[39m assets_root \u001b[38;5;241m/\u001b[39m \u001b[38;5;124m\"\u001b[39m\u001b[38;5;124mtruths\u001b[39m\u001b[38;5;124m\"\u001b[39m \u001b[38;5;241m/\u001b[39m \u001b[38;5;124m\"\u001b[39m\u001b[38;5;124msegmentations\u001b[39m\u001b[38;5;124m\"\u001b[39m \u001b[38;5;241m/\u001b[39m seq_id\n\u001b[0;32m---> 14\u001b[0m \u001b[38;5;28;01massert\u001b[39;00m inputs_path\u001b[38;5;241m.\u001b[39mexists(), inputs_path\n\u001b[1;32m     15\u001b[0m \u001b[38;5;28;01massert\u001b[39;00m depths_path\u001b[38;5;241m.\u001b[39mexists(), depths_path\n\u001b[1;32m     16\u001b[0m \u001b[38;5;28;01massert\u001b[39;00m panseg_path\u001b[38;5;241m.\u001b[39mexists(), panseg_path\n",
      "\u001b[0;31mAssertionError\u001b[0m: assets/testing/inputs/0001"
     ]
    }
   ],
   "source": [
    "import matplotlib.pyplot as plt\n",
    "import unipercept as up\n",
    "\n",
    "assets_info = up.data.sets.catalog.get_info(\"kitti-step\")\n",
    "assets_root = up.file_io.Path(\"./assets/testing/\")\n",
    "\n",
    "seq_id = \"0001\"\n",
    "\n",
    "inputs_path = assets_root / \"inputs\" / seq_id\n",
    "depths_path = assets_root / \"truths\" / \"depths\" / seq_id\n",
    "panseg_path = assets_root / \"truths\" / \"segmentations\" / seq_id\n",
    "\n",
    "assert inputs_path.exists(), inputs_path\n",
    "assert depths_path.exists(), depths_path\n",
    "assert panseg_path.exists(), panseg_path"
   ]
  },
  {
   "cell_type": "code",
   "execution_count": null,
   "metadata": {},
   "outputs": [],
   "source": [
    "fig, ax = plt.subplots(2)\n",
    "\n",
    "panseg = up.data.tensors.PanopticMap.read(\n",
    "    next(panseg_path.glob(\"**/*\")), assets_info, format=\"kitti\"\n",
    ")\n",
    "up.render.draw_image_segmentation(panseg, assets_info, ax=ax[0])\n",
    "\n",
    "depth = up.data.tensors.DepthMap.read(next(depths_path.glob(\"**/*\")), format=\"tiff\")\n",
    "up.render.draw_image_depth(depth, assets_info, ax=ax[1])\n",
    "\n",
    "fig.tight_layout()"
   ]
  }
 ],
 "metadata": {
  "kernelspec": {
   "display_name": "Python 3 (ipykernel)",
   "language": "python",
   "name": "python3"
  },
  "language_info": {
   "codemirror_mode": {
    "name": "ipython",
    "version": 3
   },
   "file_extension": ".py",
   "mimetype": "text/x-python",
   "name": "python",
   "nbconvert_exporter": "python",
   "pygments_lexer": "ipython3",
   "version": "3.12.0"
  }
 },
 "nbformat": 4,
 "nbformat_minor": 4
}
