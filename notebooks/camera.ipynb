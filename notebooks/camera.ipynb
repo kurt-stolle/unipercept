{
 "cells": [
  {
   "cell_type": "code",
   "execution_count": null,
   "metadata": {},
   "outputs": [],
   "source": [
    "import unipercept as up\n",
    "\n",
    "cam = up.data.tensors.PinholeCamera()"
   ]
  }
 ],
 "metadata": {
  "language_info": {
   "name": "python"
  }
 },
 "nbformat": 4,
 "nbformat_minor": 2
}
