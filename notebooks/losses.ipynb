{
 "cells": [
  {
   "cell_type": "markdown",
   "id": "1d0c687c19260f1a",
   "metadata": {
    "collapsed": false
   },
   "source": [
    "# Loss functions \n",
    "\n",
    "This notebook showcases and explains the various loss functions in `unipercept.nn.losses`."
   ]
  },
  {
   "cell_type": "code",
   "execution_count": 2,
   "id": "84c138015823484b",
   "metadata": {
    "collapsed": false
   },
   "outputs": [
    {
     "name": "stdout",
     "output_type": "stream",
     "text": [
      "Using UniPercept version 3.2.2\n"
     ]
    }
   ],
   "source": [
    "import unipercept as up\n",
    "import torch\n",
    "import seaborn\n",
    "import matplotlib.pyplot as plt\n",
    "\n",
    "%matplotlib inline\n",
    "\n",
    "print(f\"Using UniPercept version {up.__version__}\")"
   ]
  },
  {
   "cell_type": "markdown",
   "id": "b40a4d5c",
   "metadata": {},
   "source": [
    "## Sigmoid focal loss\n",
    "\n",
    "Using the variant from *RetinaNet: [...]*, focal loss defines a weighted loss of class-level object detections."
   ]
  },
  {
   "cell_type": "code",
   "execution_count": 7,
   "id": "2fd5c9fb",
   "metadata": {},
   "outputs": [
    {
     "name": "stdout",
     "output_type": "stream",
     "text": [
      "FocalLoss module: SigmoidFocalLoss()\n"
     ]
    }
   ],
   "source": [
    "focal_loss = up.nn.losses.SigmoidFocalLoss(alpha=0.0, gamma=1.0)\n",
    "\n",
    "print(f\"FocalLoss module: {focal_loss}\")"
   ]
  },
  {
   "cell_type": "markdown",
   "id": "d90ce9b0",
   "metadata": {},
   "source": [
    "## Depth loss\n",
    "\n",
    "Depth loss combines scale-invariant logarithmic error (SILE) and absolute relative error (ARE) into a weighted loss \n",
    "function that balances relative error with pixel-to-pixel accuracy."
   ]
  },
  {
   "cell_type": "code",
   "execution_count": 8,
   "id": "205aca68",
   "metadata": {},
   "outputs": [
    {
     "name": "stdout",
     "output_type": "stream",
     "text": [
      "DepthLoss module: DepthLoss()\n"
     ]
    }
   ],
   "source": [
    "depth_loss = up.nn.losses.DepthLoss()\n",
    "\n",
    "print(f\"DepthLoss module: {depth_loss}\")"
   ]
  },
  {
   "cell_type": "markdown",
   "id": "e6b717169cb65b15",
   "metadata": {
    "collapsed": false
   },
   "source": [
    "## Depth-guided panoptic (DGP) loss\n"
   ]
  },
  {
   "cell_type": "code",
   "execution_count": 5,
   "id": "1a2096f60bf3d1d5",
   "metadata": {
    "collapsed": false
   },
   "outputs": [
    {
     "name": "stdout",
     "output_type": "stream",
     "text": [
      "Loss module: DGPLoss()\n"
     ]
    }
   ],
   "source": [
    "batch_size = 4\n",
    "num_classes = 20\n",
    "height = 64\n",
    "width = 128\n",
    "panoptic_features = torch.randn(batch_size, num_classes, height, width)\n",
    "true_depth = torch.randn(batch_size, height, width)\n",
    "\n",
    "dgp_loss = up.nn.losses.DGPLoss()\n",
    "\n",
    "print(f\"DGP module: {dgp_loss}\")\n"
   ]
  },
  {
   "cell_type": "markdown",
   "id": "f3228e8d",
   "metadata": {},
   "source": [
    "## Panoptic-guided triplet (PGT) loss\n",
    "\n",
    "Shows an example of PGT loss, see: Petrovai et al., *MonoDVPS: [...]* (WACV 2022)"
   ]
  },
  {
   "cell_type": "code",
   "execution_count": 4,
   "id": "413f4834",
   "metadata": {},
   "outputs": [],
   "source": [
    "pgt_loss = up.nn.losses.PGTLoss()\n",
    "\n",
    "print(f\"PGT module: {pgt_loss}\")"
   ]
  }
 ],
 "metadata": {
  "kernelspec": {
   "display_name": "Python 3",
   "language": "python",
   "name": "python3"
  },
  "language_info": {
   "codemirror_mode": {
    "name": "ipython",
    "version": 3
   },
   "file_extension": ".py",
   "mimetype": "text/x-python",
   "name": "python",
   "nbconvert_exporter": "python",
   "pygments_lexer": "ipython3",
   "version": "3.11.5"
  }
 },
 "nbformat": 4,
 "nbformat_minor": 5
}
