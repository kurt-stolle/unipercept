{
 "cells": [
  {
   "cell_type": "markdown",
   "metadata": {},
   "source": [
    "# Evaluation\n",
    "\n",
    "In `unipercept`, the evaluation of a trained model is also handled by the `unipercept.engine.Engine` class. This\n",
    "notebook shows how metrics can be evaluated using the Python interface."
   ]
  },
  {
   "cell_type": "code",
   "execution_count": 5,
   "metadata": {},
   "outputs": [
    {
     "name": "stdout",
     "output_type": "stream",
     "text": [
      "\u001b[36m2023-11-29\u001b[0m \u001b[96m22:26:39\u001b[0m 📝 \u001b[1m\u001b[33munipercept\u001b[0m\u001b[33m.engine\u001b[0m\u001b[1m:\u001b[0m Initializing Engine:\u001b[1m multidvps-retro @ cityscapes/convnexts/2023-11-29_17-28-52@gcn54.local.snellius.surf.nl\u001b[0m\n",
      "\u001b[36m2023-11-29\u001b[0m \u001b[96m22:26:39\u001b[0m 📝 \u001b[1m\u001b[33munipercept\u001b[0m\u001b[33m.engine\u001b[0m\u001b[1m:\u001b[0m Using directory:\u001b[1m /gpfs/work4/0/einf5438/outputs/multidvps-retro/cityscapes/convnexts/2023-11-29_17-28-52@gcn54.local.snellius.surf.nl\u001b[0m\n"
     ]
    },
    {
     "name": "stderr",
     "output_type": "stream",
     "text": [
      "WARNING:accelerate.utils.other:Detected kernel version 4.18.0, which is below the recommended minimum of 5.5.0; this can cause the process to hang. It is recommended to upgrade the kernel to the minimum version or higher.\n"
     ]
    },
    {
     "name": "stdout",
     "output_type": "stream",
     "text": [
      "\u001b[36m2023-11-29\u001b[0m \u001b[96m22:26:39\u001b[0m 📝 \u001b[1m\u001b[33munipercept\u001b[0m\u001b[33m.engine\u001b[0m\u001b[1m:\u001b[0m Current process:\u001b[1m 1 / 1\u001b[0m\n",
      "\u001b[36m2023-11-29\u001b[0m \u001b[96m22:26:40\u001b[0m 📝 \u001b[1m\u001b[33munipercept\u001b[0m\u001b[33m.engine\u001b[0m\u001b[1m:\u001b[0m Recovered engine state at step 10000\u001b[1m\u001b[0m\n",
      "Recovered model from training session\n"
     ]
    }
   ],
   "source": [
    "import unipercept as up\n",
    "\n",
    "config = up.read_config(\"//output/config.yaml\")\n",
    "model = up.create_model(config)\n",
    "dataset = up.create_dataset(config, \"val\", batch_size=1)\n",
    "engine = up.create_engine(config)\n",
    "engine.recover(model, checkpoint=\"//output/model.safetensors\")\n",
    "engine.evaluate(model, dataset)"
   ]
  }
 ],
 "metadata": {
  "kernelspec": {
   "display_name": "unipercept",
   "language": "python",
   "name": "python3"
  },
  "language_info": {
   "codemirror_mode": {
    "name": "ipython",
    "version": 3
   },
   "file_extension": ".py",
   "mimetype": "text/x-python",
   "name": "python",
   "nbconvert_exporter": "python",
   "pygments_lexer": "ipython3",
   "version": "3.11.5"
  }
 },
 "nbformat": 4,
 "nbformat_minor": 2
}
