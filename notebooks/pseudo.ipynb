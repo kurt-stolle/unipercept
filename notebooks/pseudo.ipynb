{
 "cells": [
  {
   "cell_type": "markdown",
   "metadata": {},
   "source": [
    "# Pseudo-label generator showcase"
   ]
  },
  {
   "cell_type": "code",
   "execution_count": null,
   "metadata": {},
   "outputs": [],
   "source": [
    "from IPython.display import display, HTML\n",
    "import os\n",
    "\n",
    "os.environ[\"UNICORE_DATASETS\"] = os.path.expanduser(\"~/datasets\")\n",
    "\n",
    "import unipercept as up  # isort: skip\n",
    "\n",
    "pseudogen = up.data.sets.PseudoGenerator()\n",
    "image = up.data.io.read_image(\"//datasets/kitti-step/testing/image_02/0000/000000.png\")\n",
    "info = up.data.sets.kitti_step.KITTISTEPDataset.read_info()\n",
    "\n",
    "up.render.draw_image(image)"
   ]
  },
  {
   "cell_type": "markdown",
   "metadata": {},
   "source": [
    "## Depth pseudo-label generation\n",
    "\n",
    "### External model\n",
    "\n",
    "We can generate depth labels using an external model."
   ]
  },
  {
   "cell_type": "code",
   "execution_count": null,
   "metadata": {},
   "outputs": [],
   "source": [
    "output_depth = pseudogen.estimate_depth(image)\n",
    "\n",
    "up.render.draw_image_depth(output_depth, info=info)\n",
    "\n",
    "maximum_depth = output_depth.max()\n",
    "minimum_depth = output_depth.min()\n",
    "\n",
    "display(\n",
    "    HTML(f\"<table><tr><td>{minimum_depth}</td><td>{maximum_depth}</td></tr></table>\")\n",
    ")"
   ]
  },
  {
   "cell_type": "markdown",
   "metadata": {},
   "source": [
    "## Panoptic (proof of concept)"
   ]
  },
  {
   "cell_type": "code",
   "execution_count": null,
   "metadata": {},
   "outputs": [],
   "source": [
    "import requests\n",
    "import torch\n",
    "from PIL import Image\n",
    "from transformers import AutoImageProcessor, Mask2FormerForUniversalSegmentation\n",
    "\n",
    "\n",
    "# load Mask2Former fine-tuned on Cityscapes panoptic segmentation\n",
    "processor = AutoImageProcessor.from_pretrained(\n",
    "    \"facebook/mask2former-swin-large-cityscapes-panoptic\"\n",
    ")\n",
    "model = Mask2FormerForUniversalSegmentation.from_pretrained(\n",
    "    \"facebook/mask2former-swin-large-cityscapes-panoptic\"\n",
    ")\n",
    "\n",
    "image = Image.open(\n",
    "    file_io.get_local_path(\"//datasets/kitti-step/testing/image_02/0000/000000.png\")\n",
    ")\n",
    "inputs = processor(images=image, return_tensors=\"pt\")\n",
    "\n",
    "with torch.no_grad():\n",
    "    outputs = model(**inputs)\n",
    "\n",
    "# model predicts class_queries_logits of shape `(batch_size, num_queries)`\n",
    "# and masks_queries_logits of shape `(batch_size, num_queries, height, width)`\n",
    "class_queries_logits = outputs.class_queries_logits\n",
    "masks_queries_logits = outputs.masks_queries_logits\n",
    "\n",
    "# you can pass them to processor for postprocessing\n",
    "result = processor.post_process_panoptic_segmentation(\n",
    "    outputs, target_sizes=[image.size[::-1]]\n",
    ")[0]\n",
    "# we refer to the demo notebooks for visualization (see \"Resources\" section in the Mask2Former docs)\n",
    "predicted_panoptic_map = result[\"segmentation\"]"
   ]
  }
 ],
 "metadata": {
  "kernelspec": {
   "display_name": "multidvps",
   "language": "python",
   "name": "python3"
  },
  "language_info": {
   "codemirror_mode": {
    "name": "ipython",
    "version": 3
   },
   "file_extension": ".py",
   "mimetype": "text/x-python",
   "name": "python",
   "nbconvert_exporter": "python",
   "pygments_lexer": "ipython3",
   "version": "3.11.5"
  }
 },
 "nbformat": 4,
 "nbformat_minor": 2
}
